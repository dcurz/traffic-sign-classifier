{
 "cells": [
  {
   "cell_type": "markdown",
   "metadata": {},
   "source": [
    "# Traffic Sign Classifier\n",
    "\n",
    "## Deep Learning\n",
    "\n",
    "This notebook contains a classifier for the training and recognition of german traffic signs using tensorflow. Training data is provided via pickle files in the github repository. "
   ]
  },
  {
   "cell_type": "markdown",
   "metadata": {},
   "source": [
    "---\n",
    "## Step 0: Load The Data"
   ]
  },
  {
   "cell_type": "code",
   "execution_count": 3,
   "metadata": {},
   "outputs": [],
   "source": [
    "# Load pickled data\n",
    "import pickle\n",
    "\n",
    "# TODO: Fill this in based on where you saved the training and testing data\n",
    "\n",
    "training_file = 'traffic-signs-data\\\\train.p'\n",
    "validation_file= 'traffic-signs-data\\\\valid.p'\n",
    "testing_file = 'traffic-signs-data\\\\test.p'\n",
    "\n",
    "with open(training_file, mode='rb') as f:\n",
    "    train = pickle.load(f)\n",
    "with open(validation_file, mode='rb') as f:\n",
    "    valid = pickle.load(f)\n",
    "with open(testing_file, mode='rb') as f:\n",
    "    test = pickle.load(f)\n",
    "    \n",
    "X_train, y_train = train['features'], train['labels']\n",
    "X_valid, y_valid = valid['features'], valid['labels']\n",
    "X_test, y_test = test['features'], test['labels']"
   ]
  },
  {
   "cell_type": "markdown",
   "metadata": {},
   "source": [
    "---\n",
    "\n",
    "## Step 1: Dataset Summary & Exploration\n",
    "\n",
    "The pickled data is a dictionary with 4 key/value pairs:\n",
    "\n",
    "- `'features'` is a 4D array containing raw pixel data of the traffic sign images, (num examples, width, height, channels).\n",
    "- `'labels'` is a 1D array containing the label/class id of the traffic sign. The file `signnames.csv` contains id -> name mappings for each id.\n",
    "- `'sizes'` is a list containing tuples, (width, height) representing the original width and height the image.\n",
    "- `'coords'` is a list containing tuples, (x1, y1, x2, y2) representing coordinates of a bounding box around the sign in the image. **THESE COORDINATES ASSUME THE ORIGINAL IMAGE. THE PICKLED DATA CONTAINS RESIZED VERSIONS (32 by 32) OF THESE IMAGES**\n"
   ]
  },
  {
   "cell_type": "markdown",
   "metadata": {},
   "source": [
    "### Provide a Basic Summary of the Data Set "
   ]
  },
  {
   "cell_type": "code",
   "execution_count": 4,
   "metadata": {},
   "outputs": [
    {
     "name": "stdout",
     "output_type": "stream",
     "text": [
      "Number of training examples = 34799\n",
      "Number of validation examples = 4410\n",
      "Number of testing examples = 12630\n",
      "Image data shape = (32, 32, 3)\n",
      "Number of classes = 43\n"
     ]
    }
   ],
   "source": [
    "### Replace each question mark with the appropriate value. \n",
    "### Use python, pandas or numpy methods rather than hard coding the results\n",
    "import numpy as np\n",
    "\n",
    "\n",
    "# TODO: Number of training examples\n",
    "n_train = len(X_train)\n",
    "\n",
    "# TODO: Number of validation examples\n",
    "n_validation = len(X_valid)\n",
    "\n",
    "# TODO: Number of testing examples.\n",
    "n_test = len(X_test)\n",
    "\n",
    "# TODO: What's the shape of an traffic sign image?\n",
    "image_shape = X_train[0].shape\n",
    "\n",
    "# TODO: How many unique classes/labels there are in the dataset.\n",
    "n_classes = len(np.unique(y_train))\n",
    "\n",
    "print(\"Number of training examples =\", n_train)\n",
    "print(\"Number of validation examples =\", n_validation)\n",
    "print(\"Number of testing examples =\", n_test)\n",
    "print(\"Image data shape =\", image_shape)\n",
    "print(\"Number of classes =\", n_classes)"
   ]
  },
  {
   "cell_type": "markdown",
   "metadata": {},
   "source": [
    "### Exploratory visualization of the dataset"
   ]
  },
  {
   "cell_type": "code",
   "execution_count": 5,
   "metadata": {
    "scrolled": true
   },
   "outputs": [
    {
     "name": "stdout",
     "output_type": "stream",
     "text": [
      "Here is how the training set is distributed across the 43 signs present in the dataset.\n"
     ]
    },
    {
     "data": {
      "image/png": "[encoded data removed]",
      "text/plain": [
       "<matplotlib.figure.Figure at 0x1b8a5a592e8>"
      ]
     },
     "metadata": {},
     "output_type": "display_data"
    }
   ],
   "source": [
    "### Data exploration visualization code goes here.\n",
    "### Feel free to use as many code cells as needed.\n",
    "import matplotlib.pyplot as plt\n",
    "import random\n",
    "import csv\n",
    "\n",
    "#file = 'C:\\\\Users\\\\chrzanowski.dm\\\\Documents\\\\carnd\\\\p2\\\\CarND-Traffic-Sign-Classifier-Project\\\\signnames.csv'\n",
    "#signlist = open(file)\n",
    "\n",
    "# Visualizations will be shown in the notebook.\n",
    "%matplotlib inline\n",
    "\n",
    "#plot a histogram of sign frequency in training set\n",
    "\n",
    "\n",
    "plt.hist(y_train, bins = len(np.unique(y_train)))\n",
    "print(\"Here is how the training set is distributed across the {} signs present in the dataset.\".format(len(np.unique(y_train))))\n",
    "\n",
    "#show an example image \n",
    "#index = random.randint(0,len(X_train))\n",
    "#image = X_train[index]\n",
    "\n",
    "#for row in csv.reader(signlist):\n",
    "#    if str(y_train[index]) == row[0]:\n",
    "#       signtype = row[1]\n",
    "\n",
    "#print(\"Below is image with index {} from the training dataset.\".format(index))\n",
    "#print(\"It is an example of sign type with index {}, which corresponds with <{}>\".format(y_train[index],signtype))\n",
    "#plt.imshow(image)\n",
    "\n",
    "#print(X_train[index].shape)\n"
   ]
  },
  {
   "cell_type": "markdown",
   "metadata": {},
   "source": [
    "### Example of single image"
   ]
  },
  {
   "cell_type": "code",
   "execution_count": 4,
   "metadata": {},
   "outputs": [
    {
     "name": "stdout",
     "output_type": "stream",
     "text": [
      "Below is image with index 8705 from the training dataset.\n",
      "It is an example of sign type with index 11, which corresponds with <Right-of-way at the next intersection>\n"
     ]
    },
    {
     "data": {
      "image/png": "[encoded data removed]",
      "text/plain": [
       "<matplotlib.figure.Figure at 0x805dd30>"
      ]
     },
     "metadata": {},
     "output_type": "display_data"
    }
   ],
   "source": [
    "### Data exploration visualization code goes here.\n",
    "### Feel free to use as many code cells as needed.\n",
    "import matplotlib.pyplot as plt\n",
    "import random\n",
    "import csv\n",
    "\n",
    "file = 'C:\\\\Users\\\\chrzanowski.dm\\\\Documents\\\\carnd\\\\p2\\\\CarND-Traffic-Sign-Classifier-Project\\\\signnames.csv'\n",
    "signlist = open(file)\n",
    "\n",
    "# Visualizations will be shown in the notebook.\n",
    "%matplotlib inline\n",
    "\n",
    "\n",
    "#plot a histogram of sign frequency in training set\n",
    "#plt.hist(y_train, bins = len(np.unique(y_train)))\n",
    "\n",
    "#show an example image \n",
    "index = random.randint(0,len(X_train))\n",
    "image = X_train[index]\n",
    "\n",
    "for row in csv.reader(signlist):\n",
    "    if str(y_train[index]) == row[0]:\n",
    "       signtype = row[1]\n",
    "\n",
    "\n",
    "plt.imshow(image)\n",
    "print(\"Below is image with index {} from the training dataset.\".format(index))\n",
    "print(\"It is an example of sign type with index {}, which corresponds with <{}>\".format(y_train[index],signtype))\n",
    "#print(X_train[index].shape)\n"
   ]
  },
  {
   "cell_type": "markdown",
   "metadata": {},
   "source": [
    "----\n",
    "\n",
    "## Step 2: Deep Learning Model Architecture"
   ]
  },
  {
   "cell_type": "markdown",
   "metadata": {},
   "source": [
    "### Pre-process the Data Set (normalize pixel values around 0)"
   ]
  },
  {
   "cell_type": "code",
   "execution_count": 5,
   "metadata": {
    "scrolled": true
   },
   "outputs": [
    {
     "name": "stdout",
     "output_type": "stream",
     "text": [
      "float64\n"
     ]
    }
   ],
   "source": [
    "### Preprocess the data here. It is required to normalize the data. Other preprocessing steps could include \n",
    "### converting to grayscale, etc.\n",
    "### Feel free to use as many code cells as needed.\n",
    "\n",
    "#print(X_train[3,3,3,0])\n",
    "\n",
    "X_train = X_train.astype(float)\n",
    "X_valid = X_valid.astype(float)\n",
    "X_test = X_test.astype(float)\n",
    "\n",
    "for sign in range(len(X_train)):\n",
    "        X_train[sign] = np.multiply(np.subtract(X_train[sign],128.),(1./128.))\n",
    "        \n",
    "for sig in range(len(X_valid)):\n",
    "        X_valid[sig] = np.multiply(np.subtract(X_valid[sig],128.),(1./128.))\n",
    "        \n",
    "for si in range(len(X_test)):\n",
    "        X_test[si] = np.multiply(np.subtract(X_test[si],128.),(1./128.))\n",
    "        \n",
    "#print(X_train[3,3,3,0])\n",
    "print(X_train.dtype)"
   ]
  },
  {
   "cell_type": "markdown",
   "metadata": {},
   "source": [
    "### Define Model Architecture (based on LeNet-5)"
   ]
  },
  {
   "cell_type": "code",
   "execution_count": 6,
   "metadata": {},
   "outputs": [],
   "source": [
    "#Setup TensorFlow\n",
    "import tensorflow as tf\n",
    "\n",
    "EPOCHS = 25\n",
    "BATCH_SIZE = 128"
   ]
  },
  {
   "cell_type": "code",
   "execution_count": 7,
   "metadata": {},
   "outputs": [],
   "source": [
    "from tensorflow.contrib.layers import flatten\n",
    "\n",
    "def IlNet(x):\n",
    "\n",
    "    mu = 0\n",
    "    sigma = 0.1\n",
    "    \n",
    "    #Layer 1: Convolutional. Input = 32x32x!!!3!!!. Output = 28x28x!!!6!!!.\n",
    "    conv1_W = tf.Variable(tf.truncated_normal(shape=(5, 5, 3, 6), mean = mu, stddev = sigma))\n",
    "    conv1_b = tf.Variable(tf.zeros(6))\n",
    "    conv1 = tf.nn.conv2d(x, conv1_W, strides = [1,1,1,1], padding='VALID') + conv1_b\n",
    "    \n",
    "        #print(size(conv1))\n",
    "    \n",
    "    #L1 Activation.\n",
    "    conv1 = tf.nn.relu(conv1)\n",
    "    #conv1 = tf.nn.dropout(conv1, keep_prob)\n",
    "    \n",
    "    #L1 Pooling. Input = 28x28x6. Output = 14x14x6. \n",
    "    conv1 = tf.nn.max_pool(conv1, ksize=[1, 2, 2, 1], strides=[1, 2, 2, 1], padding='VALID')\n",
    "    \n",
    "    \n",
    "    #Layer 2: Convolutional. Input = 14x14x6. Output = 10x10x16.\n",
    "    conv2_W = tf.Variable(tf.truncated_normal(shape=(5, 5, 6, 16), mean = mu, stddev = sigma))\n",
    "    conv2_b = tf.Variable(tf.zeros(16))\n",
    "    conv2 = tf.nn.conv2d(conv1, conv2_W, strides = [1,1,1,1], padding='VALID') + conv2_b\n",
    "    \n",
    "    #L2 Activation.\n",
    "    conv2 = tf.nn.relu(conv2)\n",
    "    #conv2 = tf.nn.dropout(conv2, keep_prob)\n",
    "    \n",
    "    #L2 Pooling. Input = 10x10x16. Output = 5x5x16.\n",
    "    conv2 = tf.nn.max_pool(conv2, ksize=[1, 2, 2, 1], strides=[1, 2, 2, 1], padding='VALID')\n",
    "    \n",
    "    #Flatten. Input = 5X5X16. Output = 400. \n",
    "    fc2 = flatten(conv2)\n",
    "    \n",
    "    #Layer 3: Fully Connected. Input = 400. Output = 120.\n",
    "    fc3_W = tf.Variable(tf.truncated_normal(shape=(400,120), mean = mu, stddev = sigma))\n",
    "    fc3_b = tf.Variable(tf.zeros(120))\n",
    "    fc3 = tf.matmul(fc2, fc3_W) + fc3_b    \n",
    "    \n",
    "    #L3 Activation. \n",
    "    fc3 = tf.nn.relu(fc3)\n",
    "    fc3 = tf.nn.dropout(fc3, keep_prob)\n",
    "    \n",
    "    #Layer 4: Fully Connected. Input = 120. Output = 84. \n",
    "    fc4_W = tf.Variable(tf.truncated_normal(shape=(120,84), mean = mu, stddev = sigma))\n",
    "    fc4_b = tf.Variable(tf.zeros(84))\n",
    "    fc4 = tf.matmul(fc3, fc4_W) + fc4_b\n",
    "    \n",
    "    #L4 Activation\n",
    "    fc4 = tf.nn.relu(fc4)\n",
    "    fc4 = tf.nn.dropout(fc4, keep_prob)\n",
    "    \n",
    "    #Layer 5: Fully Connected. Input = 84. Output = 43. \n",
    "    fc5_W = tf.Variable(tf.truncated_normal(shape=(84,43), mean = mu, stddev = sigma))\n",
    "    fc5_b = tf.Variable(tf.zeros(43))\n",
    "    logits = tf.matmul(fc4, fc5_W) + fc5_b\n",
    "    \n",
    "    #return output\n",
    "    return logits"
   ]
  },
  {
   "cell_type": "markdown",
   "metadata": {},
   "source": [
    "### Train, Validate and Test the Model"
   ]
  },
  {
   "cell_type": "markdown",
   "metadata": {},
   "source": [
    "#### Define Necessary Relatioships"
   ]
  },
  {
   "cell_type": "code",
   "execution_count": 8,
   "metadata": {
    "collapsed": true
   },
   "outputs": [],
   "source": [
    "#FEATURES AND LABELS\n",
    "x = tf.placeholder(tf.float32, (None, 32, 32, 3))\n",
    "y = tf.placeholder(tf.int32, (None))\n",
    "keep_prob = tf.placeholder(tf.float32, (None))\n",
    "one_hot_y = tf.one_hot(y, 43)"
   ]
  },
  {
   "cell_type": "code",
   "execution_count": 9,
   "metadata": {
    "collapsed": true
   },
   "outputs": [],
   "source": [
    "#TRAINING PIPELINE\n",
    "rate = 0.001\n",
    "\n",
    "logits = IlNet(x)\n",
    "cross_entropy = tf.nn.softmax_cross_entropy_with_logits(labels=one_hot_y, logits=logits)\n",
    "loss_operation = tf.reduce_mean(cross_entropy)\n",
    "optimizer = tf.train.AdamOptimizer(learning_rate = rate)\n",
    "training_operation = optimizer.minimize(loss_operation)\n"
   ]
  },
  {
   "cell_type": "code",
   "execution_count": 10,
   "metadata": {
    "collapsed": true
   },
   "outputs": [],
   "source": [
    "\n",
    "\n",
    "x = tf.placeholder(tf.float32, (None, 32, 32, 3))\n",
    "y = tf.placeholder(tf.int32, (None))\n",
    "keep_prob = tf.placeholder(tf.float32, (None))\n",
    "one_hot_y = tf.one_hot(y, 43)\n",
    "\n",
    "logits = IlNet(x)\n",
    "\n",
    "\n",
    "#MODEL EVALUATION\n",
    "correct_prediction = tf.equal(tf.argmax(logits, 1), tf.argmax(one_hot_y, 1))\n",
    "accuracy_operation = tf.reduce_mean(tf.cast(correct_prediction, tf.float32))\n",
    "saver = tf.train.Saver()\n",
    "#saver = tf.train.Saver(var_list=[conv1_W, conv1_b, conv2_W, conv2_b, fc3_W, fc3_b, fc4_W, fc4_b, fc5_W, fc5_b])\n",
    "\n",
    "def evaluate(X_data, y_data):\n",
    "        num_examples = len(X_data)\n",
    "        total_accuracy = 0\n",
    "        sess = tf.get_default_session()\n",
    "        for offset in range(0, num_examples, BATCH_SIZE):\n",
    "            batch_x, batch_y = X_data[offset:offset+BATCH_SIZE], y_data[offset:offset+BATCH_SIZE]\n",
    "            accuracy = sess.run(accuracy_operation, feed_dict={x: batch_x, y: batch_y, keep_prob: 1.0})\n",
    "            total_accuracy += (accuracy * len(batch_x))\n",
    "        return total_accuracy / num_examples\n",
    "    "
   ]
  },
  {
   "cell_type": "markdown",
   "metadata": {},
   "source": [
    "#### Train the model"
   ]
  },
  {
   "cell_type": "code",
   "execution_count": 25,
   "metadata": {},
   "outputs": [
    {
     "name": "stdout",
     "output_type": "stream",
     "text": [
      "Training...\n",
      "\n",
      "EPOCH 1 ...\n",
      "Validation Accuracy = 0.588\n",
      "\n",
      "EPOCH 2 ...\n",
      "Validation Accuracy = 0.799\n",
      "\n",
      "EPOCH 3 ...\n",
      "Validation Accuracy = 0.858\n",
      "\n",
      "EPOCH 4 ...\n",
      "Validation Accuracy = 0.897\n",
      "\n",
      "EPOCH 5 ...\n",
      "Validation Accuracy = 0.923\n",
      "\n",
      "EPOCH 6 ...\n",
      "Validation Accuracy = 0.927\n",
      "\n",
      "EPOCH 7 ...\n",
      "Validation Accuracy = 0.932\n",
      "\n",
      "EPOCH 8 ...\n",
      "Validation Accuracy = 0.933\n",
      "\n",
      "EPOCH 9 ...\n",
      "Validation Accuracy = 0.934\n",
      "\n",
      "EPOCH 10 ...\n",
      "Validation Accuracy = 0.940\n",
      "\n",
      "EPOCH 11 ...\n",
      "Validation Accuracy = 0.942\n",
      "\n",
      "EPOCH 12 ...\n",
      "Validation Accuracy = 0.949\n",
      "\n",
      "EPOCH 13 ...\n",
      "Validation Accuracy = 0.947\n",
      "\n",
      "EPOCH 14 ...\n",
      "Validation Accuracy = 0.947\n",
      "\n",
      "EPOCH 15 ...\n",
      "Validation Accuracy = 0.945\n",
      "\n",
      "EPOCH 16 ...\n",
      "Validation Accuracy = 0.947\n",
      "\n",
      "EPOCH 17 ...\n",
      "Validation Accuracy = 0.949\n",
      "\n",
      "EPOCH 18 ...\n",
      "Validation Accuracy = 0.945\n",
      "\n",
      "EPOCH 19 ...\n",
      "Validation Accuracy = 0.951\n",
      "\n",
      "EPOCH 20 ...\n",
      "Validation Accuracy = 0.951\n",
      "\n",
      "EPOCH 21 ...\n",
      "Validation Accuracy = 0.952\n",
      "\n",
      "EPOCH 22 ...\n",
      "Validation Accuracy = 0.949\n",
      "\n",
      "EPOCH 23 ...\n",
      "Validation Accuracy = 0.952\n",
      "\n",
      "EPOCH 24 ...\n",
      "Validation Accuracy = 0.955\n",
      "\n",
      "EPOCH 25 ...\n",
      "Validation Accuracy = 0.955\n",
      "\n",
      "Model saved\n"
     ]
    }
   ],
   "source": [
    "#CODE TO TRAIN AND SAVE \n",
    "from sklearn.utils import shuffle\n",
    "\n",
    "with tf.Session() as sess:\n",
    "    sess.run(tf.global_variables_initializer())\n",
    "    num_examples = len(X_train)\n",
    "    \n",
    "    print(\"Training...\")\n",
    "    print()\n",
    "    for i in range(EPOCHS):\n",
    "        X_train, y_train = shuffle(X_train, y_train)\n",
    "        for offset in range(0, num_examples, BATCH_SIZE):\n",
    "            end = offset + BATCH_SIZE\n",
    "            batch_x, batch_y = X_train[offset:end], y_train[offset:end]\n",
    "            sess.run(training_operation, feed_dict={x: batch_x, y: batch_y, keep_prob: .5})\n",
    "            \n",
    "        validation_accuracy = evaluate(X_valid, y_valid)\n",
    "        print(\"EPOCH {} ...\".format(i+1))\n",
    "        print(\"Validation Accuracy = {:.3f}\".format(validation_accuracy))\n",
    "        print()\n",
    "        \n",
    "    saver.save(sess, './2ilnet')\n",
    "    print(\"Model saved\")"
   ]
  },
  {
   "cell_type": "markdown",
   "metadata": {},
   "source": [
    "#### Evaluate Model with validation and test sets"
   ]
  },
  {
   "cell_type": "code",
   "execution_count": 10,
   "metadata": {},
   "outputs": [
    {
     "name": "stdout",
     "output_type": "stream",
     "text": [
      "Model Training Set Accuracy is: 0.997\n",
      "Model Validation Set Accuracy is: 0.955\n",
      "Model Test Set Accuracy is: 0.939\n"
     ]
    }
   ],
   "source": [
    "\n",
    "x = tf.placeholder(tf.float32, (None, 32, 32, 3))\n",
    "y = tf.placeholder(tf.int32, (None))\n",
    "keep_prob = tf.placeholder(tf.float32, (None))\n",
    "one_hot_y = tf.one_hot(y, 43)\n",
    "\n",
    "logits = IlNet(x)\n",
    "\n",
    "\n",
    "#MODEL EVALUATION\n",
    "correct_prediction = tf.equal(tf.argmax(logits, 1), tf.argmax(one_hot_y, 1))\n",
    "accuracy_operation = tf.reduce_mean(tf.cast(correct_prediction, tf.float32))\n",
    "saver = tf.train.Saver()\n",
    "#saver = tf.train.Saver(var_list=[conv1_W, conv1_b, conv2_W, conv2_b, fc3_W, fc3_b, fc4_W, fc4_b, fc5_W, fc5_b])\n",
    "\n",
    "def evaluate(X_data, y_data):\n",
    "        num_examples = len(X_data)\n",
    "        total_accuracy = 0\n",
    "        sess = tf.get_default_session()\n",
    "        for offset in range(0, num_examples, BATCH_SIZE):\n",
    "            batch_x, batch_y = X_data[offset:offset+BATCH_SIZE], y_data[offset:offset+BATCH_SIZE]\n",
    "            accuracy = sess.run(accuracy_operation, feed_dict={x: batch_x, y: batch_y, keep_prob: 1.0})\n",
    "            total_accuracy += (accuracy * len(batch_x))\n",
    "        return total_accuracy / num_examples\n",
    "\n",
    "with tf.Session() as sess:\n",
    "    \n",
    "    saver.restore(sess,\"./ilnet\")\n",
    "    tr_acc = evaluate(X_train, y_train)\n",
    "    va_acc = evaluate(X_valid, y_valid)\n",
    "    te_acc = evaluate(X_test, y_test)\n",
    "  \n",
    "\n",
    "    print(\"Model Training Set Accuracy is: {:.3f}\".format(tr_acc))\n",
    "    print(\"Model Validation Set Accuracy is: {:.3f}\".format(va_acc))\n",
    "    print(\"Model Test Set Accuracy is: {:.3f}\".format(te_acc))"
   ]
  },
  {
   "cell_type": "markdown",
   "metadata": {},
   "source": [
    "---\n",
    "\n",
    "## Step 3: Test a Model on New Images\n",
    "\n",
    "Here 5 images of german traffic signs found using a google search are evaluated using the model - serving as a true generalization case (as previous validation and test sets were taken as a subset of the provided data). "
   ]
  },
  {
   "cell_type": "markdown",
   "metadata": {},
   "source": [
    "### Load and Output the Images"
   ]
  },
  {
   "cell_type": "code",
   "execution_count": 11,
   "metadata": {
    "scrolled": true
   },
   "outputs": [
    {
     "name": "stderr",
     "output_type": "stream",
     "text": [
      "C:\\Users\\dchrz_000\\Miniconda3\\envs\\carnd-term1\\lib\\site-packages\\ipykernel_launcher.py:5: DeprecationWarning: `imread` is deprecated!\n",
      "`imread` is deprecated in SciPy 1.0.0, and will be removed in 1.2.0.\n",
      "Use ``imageio.imread`` instead.\n",
      "  \"\"\"\n",
      "C:\\Users\\dchrz_000\\Miniconda3\\envs\\carnd-term1\\lib\\site-packages\\ipykernel_launcher.py:6: DeprecationWarning: `imread` is deprecated!\n",
      "`imread` is deprecated in SciPy 1.0.0, and will be removed in 1.2.0.\n",
      "Use ``imageio.imread`` instead.\n",
      "  \n",
      "C:\\Users\\dchrz_000\\Miniconda3\\envs\\carnd-term1\\lib\\site-packages\\ipykernel_launcher.py:7: DeprecationWarning: `imread` is deprecated!\n",
      "`imread` is deprecated in SciPy 1.0.0, and will be removed in 1.2.0.\n",
      "Use ``imageio.imread`` instead.\n",
      "  import sys\n",
      "C:\\Users\\dchrz_000\\Miniconda3\\envs\\carnd-term1\\lib\\site-packages\\ipykernel_launcher.py:8: DeprecationWarning: `imread` is deprecated!\n",
      "`imread` is deprecated in SciPy 1.0.0, and will be removed in 1.2.0.\n",
      "Use ``imageio.imread`` instead.\n",
      "  \n",
      "C:\\Users\\dchrz_000\\Miniconda3\\envs\\carnd-term1\\lib\\site-packages\\ipykernel_launcher.py:9: DeprecationWarning: `imread` is deprecated!\n",
      "`imread` is deprecated in SciPy 1.0.0, and will be removed in 1.2.0.\n",
      "Use ``imageio.imread`` instead.\n",
      "  if __name__ == '__main__':\n"
     ]
    },
    {
     "data": {
      "text/plain": [
       "<matplotlib.image.AxesImage at 0x1b8abf4d6d8>"
      ]
     },
     "execution_count": 11,
     "metadata": {},
     "output_type": "execute_result"
    },
    {
     "data": {
      "image/png": "[encoded data removed]",
      "text/plain": [
       "<matplotlib.figure.Figure at 0x1b8abdb6da0>"
      ]
     },
     "metadata": {},
     "output_type": "display_data"
    },
    {
     "data": {
      "image/png": "[encoded data removed]",
      "text/plain": [
       "<matplotlib.figure.Figure at 0x1b8abd4c438>"
      ]
     },
     "metadata": {},
     "output_type": "display_data"
    },
    {
     "data": {
      "image/png": "[encoded data removed]",
      "text/plain": [
       "<matplotlib.figure.Figure at 0x1b8abe20048>"
      ]
     },
     "metadata": {},
     "output_type": "display_data"
    },
    {
     "data": {
      "image/png": "[encoded data removed]",
      "text/plain": [
       "<matplotlib.figure.Figure at 0x1b8abe647f0>"
      ]
     },
     "metadata": {},
     "output_type": "display_data"
    },
    {
     "data": {
      "image/png": "[encoded data removed]",
      "text/plain": [
       "<matplotlib.figure.Figure at 0x1b8abeb6cc0>"
      ]
     },
     "metadata": {},
     "output_type": "display_data"
    }
   ],
   "source": [
    "### Load the images and plot them here.\n",
    "### Feel free to use as many code cells as needed.\n",
    "from scipy.misc import imread\n",
    "\n",
    "im1 = imread('Test Images\\\\image_1_30kmhr.jpg')\n",
    "im2 = imread('Test Images\\\\image_2_100kmhr.jpg')\n",
    "im3 = imread('Test Images\\\\image_3_keepright.jpg')\n",
    "im4 = imread('Test Images\\\\image_4_roadwork.jpg')\n",
    "im5 = imread('Test Images\\\\image_5_nopass.jpg')\n",
    "\n",
    "plt.imshow(im1)\n",
    "plt.figure()\n",
    "plt.imshow(im2)\n",
    "plt.figure()\n",
    "plt.imshow(im3)\n",
    "plt.figure()\n",
    "plt.imshow(im4)\n",
    "plt.figure()\n",
    "plt.imshow(im5)"
   ]
  },
  {
   "cell_type": "markdown",
   "metadata": {},
   "source": [
    "### Predict the Sign Type for Each Image"
   ]
  },
  {
   "cell_type": "markdown",
   "metadata": {},
   "source": [
    "#### Assemble 4D array from test images"
   ]
  },
  {
   "cell_type": "code",
   "execution_count": 10,
   "metadata": {},
   "outputs": [
    {
     "name": "stdout",
     "output_type": "stream",
     "text": [
      "(1, 32, 32, 3)\n",
      "<class 'numpy.ndarray'>\n",
      "(1, 32, 32, 3)\n",
      "<class 'numpy.ndarray'>\n",
      "(1, 32, 32, 3)\n",
      "<class 'numpy.ndarray'>\n",
      "(1, 32, 32, 3)\n",
      "<class 'numpy.ndarray'>\n",
      "(1, 32, 32, 3)\n",
      "<class 'numpy.ndarray'>\n",
      "(5, 32, 32, 3)\n",
      "float32\n"
     ]
    }
   ],
   "source": [
    "#PREPROCESSING\n",
    "\n",
    "#Combine 5 Images into 1 4D array\n",
    "ima1 = np.expand_dims(im1, axis=0)\n",
    "print(ima1.shape)\n",
    "print(type(ima1))\n",
    "ima2 = np.expand_dims(im2, axis=0)\n",
    "print(ima2.shape)\n",
    "print(type(ima2))\n",
    "ima3 = np.expand_dims(im3, axis=0)\n",
    "print(ima3.shape)\n",
    "print(type(ima3))\n",
    "ima4 = np.expand_dims(im4, axis=0)\n",
    "print(ima4.shape)\n",
    "print(type(ima4))\n",
    "ima5 = np.expand_dims(im5, axis=0)\n",
    "print(ima5.shape)\n",
    "print(type(ima5))\n",
    "\n",
    "test_ims = np.concatenate((ima1,ima2,ima3,ima4,ima5))\n",
    "#print(test_ims.shape)\n",
    "\n",
    "#Normalize Images Same as in Training Set\n",
    "test_ims = test_ims.astype('float32')\n",
    "\n",
    "for s in range(len(test_ims)):\n",
    "        test_ims[s] = np.multiply(np.subtract(test_ims[s],128.),(1./128.))\n",
    "\n",
    "#print(test_ims.dtype)\n"
   ]
  },
  {
   "cell_type": "markdown",
   "metadata": {},
   "source": [
    "#### Run through the network, print sign index guess for each"
   ]
  },
  {
   "cell_type": "code",
   "execution_count": 13,
   "metadata": {},
   "outputs": [
    {
     "name": "stdout",
     "output_type": "stream",
     "text": [
      "restore successful?\n",
      "Predictions: [10  1 38 11  9]\n",
      "logits: [[ -1.78205986e+01  -1.96428990e+00  -3.47791433e+00  -1.42977543e+01\n",
      "   -6.34646749e+00  -2.17418939e-01  -9.73890686e+00   1.91431224e+00\n",
      "   -1.50439758e+01  -4.49575710e+00   3.15330625e+00   1.29767990e+00\n",
      "   -4.50857401e-01  -1.39430990e+01  -1.91232777e+01  -1.81093216e+01\n",
      "    3.52454513e-01  -2.14220695e+01  -1.85648956e+01   6.47161901e-01\n",
      "   -1.43792219e+01  -5.97303104e+00  -3.35181198e+01  -6.22703648e+00\n",
      "   -1.67158012e+01  -1.49101725e+01  -9.68803215e+00  -9.95097733e+00\n",
      "   -1.00549440e+01  -1.92449684e+01  -1.10093184e+01  -1.14752378e+01\n",
      "   -2.58990612e+01   2.85585856e+00  -2.33408585e+01  -7.12738514e+00\n",
      "   -1.61845570e+01  -8.18820572e+00  -1.86262035e+01  -3.39957857e+00\n",
      "   -1.18826520e+00  -1.41120796e+01  -2.70265961e+00]\n",
      " [ -3.94405985e+00   1.86254656e+00  -6.29676640e-01  -6.04879284e+00\n",
      "    1.23787075e-02  -8.21258307e-01  -7.44729233e+00  -2.72751427e+00\n",
      "   -5.79189396e+00  -6.39622164e+00  -7.88896608e+00  -1.32211459e+00\n",
      "   -6.31938553e+00  -1.19294653e+01  -8.71024799e+00  -6.50808954e+00\n",
      "   -1.12619793e+00  -9.95374584e+00  -6.34661579e+00  -4.63093400e-01\n",
      "   -8.79195118e+00  -3.78811407e+00  -1.70186081e+01  -6.46797657e+00\n",
      "   -7.14791679e+00  -7.72365904e+00  -5.47726917e+00  -2.47683239e+00\n",
      "   -6.64303923e+00  -7.20932674e+00  -9.23245430e+00  -2.68689156e+00\n",
      "   -1.08613548e+01  -3.38056922e+00  -1.58176575e+01  -9.37231636e+00\n",
      "   -6.90381098e+00  -7.51173115e+00  -9.88484955e+00  -4.53354216e+00\n",
      "   -4.50759840e+00  -1.04821787e+01  -1.07023516e+01]\n",
      " [ -5.09143867e+01  -5.03151054e+01  -4.72427292e+01  -2.96347103e+01\n",
      "   -2.59260120e+01  -3.58735085e+01  -4.18685951e+01  -9.26917038e+01\n",
      "   -3.66156769e+01  -3.24766083e+01  -4.60725021e+01  -5.11786041e+01\n",
      "   -9.59017372e+00   1.48093820e+00  -4.11232033e+01  -8.99344730e+00\n",
      "   -6.69472504e+01   1.35171204e+01  -8.94984913e+00  -6.01608734e+01\n",
      "   -1.25623980e+01  -7.95520172e+01  -2.28312550e+01  -5.76354294e+01\n",
      "   -8.91221695e+01  -1.19258413e+01  -8.84683704e+00  -8.26796646e+01\n",
      "   -4.70000038e+01  -3.69665527e+01  -2.45479088e+01  -6.88523331e+01\n",
      "   -1.75049591e+01   1.20427046e+01   2.36723404e+01   5.51526666e-01\n",
      "    7.16854763e+00  -5.29481125e+00   4.82849617e+01  -1.49895163e+01\n",
      "    8.52088833e+00  -1.64998264e+01  -5.50108681e+01]\n",
      " [ -3.63251839e+01  -1.91495533e+01  -2.64183044e+01  -1.65796700e+01\n",
      "   -5.37136497e+01  -1.58032045e+01  -5.98904896e+00  -1.84883633e+01\n",
      "   -4.19300079e+01  -1.98112812e+01  -1.04677706e+01   1.91469250e+01\n",
      "   -2.19553375e+00  -2.86884632e+01  -9.86852074e+00  -3.32904320e+01\n",
      "   -1.25635242e+01  -1.50605659e+01  -1.48303947e+01  -3.09571981e+00\n",
      "   -4.28135514e-01   5.38357162e+00  -3.99141464e+01   1.22560650e-01\n",
      "   -5.14481592e+00  -5.82528067e+00  -4.68459129e+00   5.12919761e-02\n",
      "   -5.45935917e+00  -1.54156418e+01   1.42472038e+01  -1.61293507e+01\n",
      "   -1.84330711e+01  -1.42349176e+01  -1.59060955e+01  -2.07254791e+01\n",
      "   -2.41218643e+01  -3.11255112e+01  -2.37806206e+01  -4.38204460e+01\n",
      "   -1.78317509e+01  -4.80472040e+00  -5.53647900e+00]\n",
      " [ -3.74708328e+01  -3.32985611e+01  -3.73544350e+01  -6.15717936e+00\n",
      "   -4.34779129e+01  -1.39782686e+01  -3.17985516e+01  -9.84840488e+00\n",
      "   -2.66847649e+01   2.01017056e+01   8.92059422e+00  -3.70361805e+00\n",
      "    5.26432800e+00  -1.80177860e+01  -1.52491426e+01  -1.25756226e+01\n",
      "    1.14940052e+01  -2.70887012e+01  -3.06040840e+01  -5.96336508e+00\n",
      "   -2.91883183e+00  -3.47346954e+01  -3.26437912e+01  -7.15949535e+00\n",
      "   -2.84935780e+01  -2.28654003e+01  -3.09644270e+00  -1.58051567e+01\n",
      "   -1.70392823e+00  -1.15729303e+01  -8.46305466e+00  -4.91613960e+01\n",
      "   -2.27723293e+01  -1.49247370e+01  -9.85568237e+00  -6.91090250e+00\n",
      "   -2.97889328e+01  -3.60922623e+01  -2.75110912e+01  -3.16370049e+01\n",
      "   -1.00577135e+01  -2.32834905e-01  -5.60550308e+00]]\n"
     ]
    }
   ],
   "source": [
    "#RUN THROUGH CONVNET\n",
    "#x= tf.placeholder(tf.float32, (None, 32, 32, 3))\n",
    "#keep_prob = tf.placeholder(tf.float32, (None))\n",
    "\n",
    "\n",
    "t_logits = IlNet(x)\n",
    "predictions = tf.argmax(t_logits,1)\n",
    "\n",
    "saver = tf.train.Saver()\n",
    "\n",
    "#tf.reset_default_graph()\n",
    "\n",
    "with tf.Session() as sess:\n",
    "    #tf.reset_default_graph()\n",
    "    #sess.run(tf.global_variables_initializer())\n",
    "    saver.restore(sess,\"./ilnet\")\n",
    "    print(\"restore successful?\")\n",
    "    \n",
    "    the_predictions = sess.run(\n",
    "        predictions,\n",
    "        feed_dict={x: test_ims, keep_prob: 1.0})\n",
    "    \n",
    "    the_logits = sess.run(\n",
    "         t_logits,\n",
    "         feed_dict={x: test_ims, keep_prob: 1.0})\n",
    "\n",
    "print('Predictions: {}'.format(the_predictions))\n",
    "#print('logits: {}'.format(the_logits))"
   ]
  },
  {
   "cell_type": "markdown",
   "metadata": {},
   "source": [
    "### Analyze Performance"
   ]
  },
  {
   "cell_type": "code",
   "execution_count": 14,
   "metadata": {},
   "outputs": [
    {
     "name": "stdout",
     "output_type": "stream",
     "text": [
      "Accuracy is: 0.4\n"
     ]
    }
   ],
   "source": [
    "### Calculate the accuracy for these 5 new images. \n",
    "### For example, if the model predicted 1 out of 5 signs correctly, it's 20% accurate on these new images.\n",
    "Correct = [1, 7, 38, 25, 9]\n",
    "count = 0\n",
    "tot = len(Correct)\n",
    "\n",
    "for a in range(len(Correct)):\n",
    "        if Correct[a]==the_predictions[a]:\n",
    "            count = count + 1\n",
    "\n",
    "acc = count/tot\n",
    "\n",
    "print(\"Accuracy is: {}\".format(acc))"
   ]
  },
  {
   "cell_type": "markdown",
   "metadata": {},
   "source": [
    "### Output Top 5 Softmax Probabilities For Each Image Found on the Web"
   ]
  },
  {
   "cell_type": "code",
   "execution_count": 18,
   "metadata": {},
   "outputs": [
    {
     "name": "stdout",
     "output_type": "stream",
     "text": [
      "TopKV2(values=array([[  4.13552672e-01,   3.07150304e-01,   1.19796067e-01,\n",
      "          6.46610186e-02,   3.37385312e-02],\n",
      "       [  6.44980192e-01,   1.01397827e-01,   6.30280375e-02,\n",
      "          5.33565283e-02,   4.40539308e-02],\n",
      "       [  1.00000000e+00,   2.04585272e-11,   7.95276905e-16,\n",
      "          1.82048927e-16,   5.37876758e-18],\n",
      "       [  9.92605329e-01,   7.39357946e-03,   1.04575076e-06,\n",
      "          5.42750334e-09,   5.05415754e-09],\n",
      "       [  9.99803007e-01,   1.82657575e-04,   1.39321928e-05,\n",
      "          3.59851441e-07,   1.47480761e-09]], dtype=float32), indices=array([[10, 33,  7, 11, 19],\n",
      "       [ 1,  4, 19,  2,  5],\n",
      "       [38, 34, 17, 33, 40],\n",
      "       [11, 30, 21, 23, 27],\n",
      "       [ 9, 16, 10, 12, 41]]))\n"
     ]
    }
   ],
   "source": [
    "    #softmaxit = np.array(zeros((5,43)))\n",
    "\n",
    "#     for d in range len(logits)  \n",
    "#         softmaxit[d] = tf.softmax(logits[d])\n",
    "\n",
    "logits = tf.placeholder(tf.float32, (5, 43)) \n",
    "\n",
    "softmaxit = tf.nn.softmax(logits)\n",
    "top5s = tf.nn.top_k(softmaxit, 5)\n",
    "\n",
    "\n",
    "with tf.Session() as sess:\n",
    "    \n",
    "    #for d in range len(the_logits)  \n",
    "        the_softmaxes = sess.run(\n",
    "        top5s,\n",
    "        feed_dict={logits: the_logits})\n",
    "        \n",
    "        \n",
    "        print(the_softmaxes)\n",
    "        \n"
   ]
  }
 ],
 "metadata": {
  "anaconda-cloud": {},
  "kernelspec": {
   "display_name": "Python 3",
   "language": "python",
   "name": "python3"
  },
  "language_info": {
   "codemirror_mode": {
    "name": "ipython",
    "version": 3
   },
   "file_extension": ".py",
   "mimetype": "text/x-python",
   "name": "python",
   "nbconvert_exporter": "python",
   "pygments_lexer": "ipython3",
   "version": "3.5.2"
  },
  "widgets": {
   "state": {},
   "version": "1.1.2"
  }
 },
 "nbformat": 4,
 "nbformat_minor": 1
}
